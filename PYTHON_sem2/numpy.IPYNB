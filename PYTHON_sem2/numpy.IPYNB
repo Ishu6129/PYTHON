{
 "cells": [
  {
   "cell_type": "markdown",
   "metadata": {},
   "source": [
    "what is Array ?\n",
    "\n",
    "    It a type of grid that contain values/data/information.\n",
    "\n",
    "What are the benifits of using numpy ?\n",
    " \n",
    "    It is faster than python list.\n",
    "    It consumes less memory.\n",
    "    Convenient to use.\n",
    "    Wide variety of mathematical functions\n",
    "               \n",
    "\n",
    "How to intall numpy ?\n",
    "\n",
    "    open cmd and type following command \" pip intall numpy \".\n",
    "\n",
    "Difference between Numpy Array and python list .\n",
    "\n",
    "                                       LIST                              Numpy\n",
    "    Data type storage         -  Store all type of data          Store only one type of data\n",
    "    Importing Module          -  No need to import Module        Need to import Module\n",
    "    Numerical operation       -  less efficiency                 More efficient\n",
    "    Modification Cpabilities  -  Fast Modification               Less modification features\n",
    "    Memory                    -  Consume more memory             Consume less memory\n",
    "    Speed                     -  Slow                            Fast\n",
    "    Convenient to use         -  No                              Yes\n",
    "\n",
    "Note :- use \" %timeit\" for checking the time taken by single line\n",
    "        use \" %timeit\" for checking the time taken by whole program\n",
    "\n",
    "        Eg(jupyter notebook only): %timeit[j**4 for j in range(1,9)]\n",
    "            %timeit np.arange(1,9)**4             # will automaticall create array from 0 to 8 with it's 4 x value"
   ]
  },
  {
   "cell_type": "markdown",
   "metadata": {},
   "source": [
    "    BUILT IN FUNCTIONS"
   ]
  },
  {
   "cell_type": "markdown",
   "metadata": {},
   "source": [
    "        Zeros :- All element will be 0 ."
   ]
  },
  {
   "cell_type": "code",
   "execution_count": 2,
   "metadata": {},
   "outputs": [
    {
     "name": "stdout",
     "output_type": "stream",
     "text": [
      "[0. 0. 0. 0. 0.]\n",
      "\n",
      "[[0. 0. 0.]\n",
      " [0. 0. 0.]]\n"
     ]
    }
   ],
   "source": [
    "import numpy as np\n",
    "arr=np.zeros(5)\n",
    "arr2=np.zeros((2,3))\n",
    "print(arr)\n",
    "print(arr2)"
   ]
  },
  {
   "cell_type": "markdown",
   "metadata": {},
   "source": [
    "        Ones :- All element will be 1 ."
   ]
  },
  {
   "cell_type": "code",
   "execution_count": 24,
   "metadata": {},
   "outputs": [
    {
     "name": "stdout",
     "output_type": "stream",
     "text": [
      "[1. 1. 1. 1. 1.]\n",
      "\n",
      "[[1. 1. 1.]\n",
      " [1. 1. 1.]]\n"
     ]
    }
   ],
   "source": [
    "arr=np.ones(5)\n",
    "arr2=np.ones((2,3))\n",
    "print(arr)\n",
    "print(arr2) \n"
   ]
  },
  {
   "cell_type": "markdown",
   "metadata": {},
   "source": [
    "        Empty :- It will have previous memory data"
   ]
  },
  {
   "cell_type": "code",
   "execution_count": 16,
   "metadata": {},
   "outputs": [
    {
     "name": "stdout",
     "output_type": "stream",
     "text": [
      "[0.00000000e+000 1.09221928e-311 1.09221928e-311 1.09221928e-311]\n"
     ]
    }
   ],
   "source": [
    "arr=np.empty(4)\n",
    "print(arr)"
   ]
  },
  {
   "cell_type": "markdown",
   "metadata": {},
   "source": [
    "    Range"
   ]
  },
  {
   "cell_type": "code",
   "execution_count": 23,
   "metadata": {},
   "outputs": [
    {
     "name": "stdout",
     "output_type": "stream",
     "text": [
      "[0 1 2 3]\n",
      "\n",
      "[2 3]\n"
     ]
    }
   ],
   "source": [
    "arr=np.arange(4)\n",
    "arr2=np.arange(2,4)\n",
    "print(arr)\n",
    "print(arr2)"
   ]
  },
  {
   "cell_type": "markdown",
   "metadata": {},
   "source": [
    "    Diagonal :- All diagonal element will be one."
   ]
  },
  {
   "cell_type": "code",
   "execution_count": 26,
   "metadata": {},
   "outputs": [
    {
     "name": "stdout",
     "output_type": "stream",
     "text": [
      "[[1. 0. 0. 0.]\n",
      " [0. 1. 0. 0.]]\n",
      "\n",
      "[[1. 0. 0.]\n",
      " [0. 1. 0.]\n",
      " [0. 0. 1.]]\n"
     ]
    }
   ],
   "source": [
    "arr2=np.eye(3)\n",
    "arr=np.eye(2,4)\n",
    "print(arr)\n",
    "print(arr2) "
   ]
  },
  {
   "cell_type": "markdown",
   "metadata": {},
   "source": [
    "    LineSpace :- For defining equally spaced gap between elements "
   ]
  },
  {
   "cell_type": "code",
   "execution_count": 29,
   "metadata": {},
   "outputs": [
    {
     "name": "stdout",
     "output_type": "stream",
     "text": [
      "[ 0.   2.5  5.   7.5 10. ]\n"
     ]
    }
   ],
   "source": [
    "arr=np.linspace(0,10,num=5)\n",
    "print(arr)"
   ]
  },
  {
   "cell_type": "markdown",
   "metadata": {},
   "source": [
    "    full() : For making same valued array"
   ]
  },
  {
   "cell_type": "code",
   "execution_count": 31,
   "metadata": {},
   "outputs": [
    {
     "name": "stdout",
     "output_type": "stream",
     "text": [
      "[[6 6 6]\n",
      " [6 6 6]]\n"
     ]
    }
   ],
   "source": [
    "var=np.full((2,3),6)\n",
    "print(var)"
   ]
  },
  {
   "cell_type": "markdown",
   "metadata": {},
   "source": [
    "    CREATING RANDOM ARRAYS"
   ]
  },
  {
   "cell_type": "markdown",
   "metadata": {},
   "source": [
    "        rand() :- Generate random values between 0-1 # ( 0 , 1 )"
   ]
  },
  {
   "cell_type": "code",
   "execution_count": 35,
   "metadata": {},
   "outputs": [
    {
     "name": "stdout",
     "output_type": "stream",
     "text": [
      "[0.87034789 0.30370235 0.61844383 0.04726694]\n",
      "\n",
      "[[0.91582055 0.26255411 0.77814962]\n",
      " [0.35261111 0.71902024 0.54348551]]\n"
     ]
    }
   ],
   "source": [
    "var=np.random.rand(4)\n",
    "var2=np.random.rand(2,3)   # Here (2,3) is the dimension of an array as separate parameter\n",
    "print(var)\n",
    "print(var2) "
   ]
  },
  {
   "cell_type": "markdown",
   "metadata": {},
   "source": [
    "        randn() :- Generate random values close to 0 ."
   ]
  },
  {
   "cell_type": "code",
   "execution_count": 33,
   "metadata": {},
   "outputs": [
    {
     "name": "stdout",
     "output_type": "stream",
     "text": [
      "[ 2.91669517 -0.87388667 -1.22221261  0.48645842]\n",
      "\n",
      "[[ 0.37346108  0.62974874 -0.13373476 -0.68745698]\n",
      " [ 0.32136739  1.2134603   1.11229282  0.81402857]]\n"
     ]
    }
   ],
   "source": [
    "var=np.random.randn(4)\n",
    "var2=np.random.randn(2,4)\n",
    "print(var)\n",
    "print(var2)"
   ]
  },
  {
   "cell_type": "markdown",
   "metadata": {},
   "source": [
    "        ranf() :- Generate value in interval [ 0.0 , 1.0) # 1.0 not included . "
   ]
  },
  {
   "cell_type": "code",
   "execution_count": 56,
   "metadata": {},
   "outputs": [
    {
     "name": "stdout",
     "output_type": "stream",
     "text": [
      "[0.32932786 0.51538185]\n",
      "\n",
      "[[0.38977172 0.06802466 0.63871611 0.69798739]\n",
      " [0.26735088 0.92595842 0.35929806 0.45235006]]\n"
     ]
    }
   ],
   "source": [
    "var=np.random.ranf(2)\n",
    "var2=np.random.ranf((2,4))\n",
    "print(var)\n",
    "print(var2)"
   ]
  },
  {
   "cell_type": "markdown",
   "metadata": {},
   "source": [
    "        randint() :- Generate value between user defined range ( min , max , total )."
   ]
  },
  {
   "cell_type": "code",
   "execution_count": 57,
   "metadata": {},
   "outputs": [
    {
     "name": "stdout",
     "output_type": "stream",
     "text": [
      "[3 3 3 3 3]\n",
      "\n",
      "[1 1 5 1 1 5 3 5 2 3 4 4 5 1 5]\n"
     ]
    }
   ],
   "source": [
    "var=np.random.randint(2,4,5)\n",
    "var2=np.random.randint(1,6,15)\n",
    "print(var)\n",
    "print(var2) "
   ]
  },
  {
   "cell_type": "markdown",
   "metadata": {},
   "source": [
    "    DATATYPES : bool_6 ( True or False )\n",
    "            int_ (c long int32 or int64 )\n",
    "            intc (c int int32 or int64 )\n",
    "            int8 (-128 to 127)\n",
    "            int16 (-32768 to 32767)\n",
    "            uint8 ( 0 to 255 )\n",
    "            uint16 ( 0 to 65535 ) \n",
    "            float_ ( float64 double precision)\n",
    "            complex_ ( shorthand for complex128),etc"
   ]
  },
  {
   "cell_type": "code",
   "execution_count": 58,
   "metadata": {},
   "outputs": [
    {
     "name": "stdout",
     "output_type": "stream",
     "text": [
      "Data Type int32\n"
     ]
    }
   ],
   "source": [
    "var=np.array([1,2,3334,4])\n",
    "print(\"Data Type\",var.dtype)"
   ]
  },
  {
   "cell_type": "code",
   "execution_count": 59,
   "metadata": {},
   "outputs": [
    {
     "name": "stdout",
     "output_type": "stream",
     "text": [
      "Data Type float64\n"
     ]
    }
   ],
   "source": [
    "var=np.array([1,2.0,3334,4])\n",
    "print(\"Data Type\",var.dtype) "
   ]
  },
  {
   "cell_type": "code",
   "execution_count": 60,
   "metadata": {},
   "outputs": [
    {
     "name": "stdout",
     "output_type": "stream",
     "text": [
      "Data Type <U1\n"
     ]
    }
   ],
   "source": [
    "var=np.array([\"i\",\"s\",\"h\",\"u\"])\n",
    "print(\"Data Type\",var.dtype) "
   ]
  },
  {
   "cell_type": "code",
   "execution_count": 62,
   "metadata": {},
   "outputs": [
    {
     "name": "stdout",
     "output_type": "stream",
     "text": [
      "Data Type <U2\n"
     ]
    }
   ],
   "source": [
    "var=np.array([\"i\",\"s\",\"h\",\"ua\"])\n",
    "print(\"Data Type\",var.dtype) "
   ]
  },
  {
   "cell_type": "code",
   "execution_count": 61,
   "metadata": {},
   "outputs": [
    {
     "name": "stdout",
     "output_type": "stream",
     "text": [
      "Data Type <U11\n"
     ]
    }
   ],
   "source": [
    "var=np.array([2,\"i\",\"s\",\"h\",\"u\",1,2])\n",
    "print(\"Data Type\",var.dtype)"
   ]
  },
  {
   "cell_type": "code",
   "execution_count": 69,
   "metadata": {},
   "outputs": [
    {
     "name": "stdout",
     "output_type": "stream",
     "text": [
      "Data Type <U11\n"
     ]
    }
   ],
   "source": [
    "var=np.array([\"i\",\"s\",\"h\",\"ua\",3])\n",
    "print(\"Data Type\",var.dtype)"
   ]
  },
  {
   "cell_type": "code",
   "execution_count": 70,
   "metadata": {},
   "outputs": [
    {
     "name": "stdout",
     "output_type": "stream",
     "text": [
      "Data Type int8\n"
     ]
    }
   ],
   "source": [
    "var=np.array([2,3,4],dtype=np.int8)\n",
    "print(\"Data Type\",var.dtype)"
   ]
  },
  {
   "cell_type": "code",
   "execution_count": 72,
   "metadata": {},
   "outputs": [
    {
     "name": "stdout",
     "output_type": "stream",
     "text": [
      "Data Type int8\n"
     ]
    }
   ],
   "source": [
    "var=np.array([2,3,4])    # Data Type int32 \n",
    "var2=np.int8(var)\n",
    "print(\"Data Type\",var2.dtype)"
   ]
  },
  {
   "cell_type": "markdown",
   "metadata": {},
   "source": [
    "    astype() : Also used for defining the datatype"
   ]
  },
  {
   "cell_type": "code",
   "execution_count": 73,
   "metadata": {},
   "outputs": [
    {
     "name": "stdout",
     "output_type": "stream",
     "text": [
      "[2 3 4]\n",
      "[2. 3. 4.]\n"
     ]
    }
   ],
   "source": [
    "var=np.array([2,3,4])\n",
    "var2=var.astype(float)\n",
    "print(var)       # [2 3 4]\n",
    "print(var2)"
   ]
  },
  {
   "cell_type": "markdown",
   "metadata": {},
   "source": [
    "    ARITHMATIC OPERATIONS"
   ]
  },
  {
   "cell_type": "code",
   "execution_count": 75,
   "metadata": {},
   "outputs": [
    {
     "name": "stdout",
     "output_type": "stream",
     "text": [
      "a+5 = [6 7 8 9]\n",
      "a-5 = [-4 -3 -2 -1]\n",
      "a/5 = [0.2 0.4 0.6 0.8]\n",
      "a%5 = [1 2 3 4]\n",
      "a//5 = [0.2 0.4 0.6 0.8]\n"
     ]
    }
   ],
   "source": [
    "a=np.array([1,2,3,4])\n",
    "print(\"a+5 =\",a+5)\n",
    "print(\"a-5 =\",a-5)\n",
    "print(\"a/5 =\",a/5)\n",
    "print(\"a%5 =\",a%5)\n",
    "print(\"a//5 =\",a/5)"
   ]
  },
  {
   "cell_type": "markdown",
   "metadata": {},
   "source": [
    "    ARITHMATIC FUNCTIONS"
   ]
  },
  {
   "cell_type": "markdown",
   "metadata": {},
   "source": [
    "        add(),subtract(),multipy(),divide(),floor_divide(),mod(),power()"
   ]
  },
  {
   "cell_type": "code",
   "execution_count": 88,
   "metadata": {},
   "outputs": [
    {
     "name": "stdout",
     "output_type": "stream",
     "text": [
      "np.add(a,b) = array([ 6,  8, 10, 12])\n",
      "\n",
      "np.subtract(a,b) = array([-4, -4, -4, -4])\n",
      "\n",
      "np.multiply(a,b) = array([ 5, 12, 21, 32])\n",
      "\n",
      "np.divide(a,b) = array([0.2       , 0.33333333, 0.42857143, 0.5       ])\n",
      "\n",
      "np.floor_divide(a,b) = array([0, 0, 0, 0])\n",
      "\n",
      "np.mod(a,b) = array([1, 2, 3, 4])\n",
      "\n",
      "np.power(a,b) = array([    1,    64,  2187, 65536])\n",
      "\n",
      "np.sqrt(a) = array([1.        , 1.41421356, 1.73205081, 2.        ])\n"
     ]
    }
   ],
   "source": [
    "a=np.array([1,2,3,4])\n",
    "b=np.array([5,6,7,8])\n",
    "print(f'{np.add(a,b) = }')\n",
    "print(f'{np.subtract(a,b) = }')\n",
    "print(f'{np.multiply(a,b) = }') \n",
    "print(f'{np.divide(a,b) = }')\n",
    "print(f'{np.floor_divide(a,b) = }')\n",
    "print(f'{np.mod(a,b) = }') \n",
    "print(f'{np.power(a,b) = }')\n",
    "print(f'{np.sqrt(a) = }')\n",
    "\n",
    "# we also have trignometry functions like sin(),cos(),etc\n",
    "# we can also use multidimensional arrays but remember data passed in arrays must be of same length"
   ]
  },
  {
   "cell_type": "markdown",
   "metadata": {},
   "source": [
    "        reciprocal()"
   ]
  },
  {
   "cell_type": "code",
   "execution_count": 83,
   "metadata": {},
   "outputs": [
    {
     "name": "stdout",
     "output_type": "stream",
     "text": [
      "[0 0 0 0]\n",
      "\n",
      "[1 0 0 0]\n"
     ]
    }
   ],
   "source": [
    "a=np.array([21,2,3,4])\n",
    "b=np.array([1,2,3,4])\n",
    "c=np.array([5,6,7,8])\n",
    "print(np.reciprocal(a))\n",
    "print(np.reciprocal(b,c))"
   ]
  },
  {
   "cell_type": "markdown",
   "metadata": {},
   "source": [
    "        tranpose()"
   ]
  },
  {
   "cell_type": "code",
   "execution_count": 85,
   "metadata": {},
   "outputs": [
    {
     "name": "stdout",
     "output_type": "stream",
     "text": [
      "[1 2 3 4]\n",
      "\n",
      "[[1 5]\n",
      " [2 6]\n",
      " [3 7]]\n"
     ]
    }
   ],
   "source": [
    "var=np.array([1,2,3,4])        # [1 2 3 4]\n",
    "var2=np.array([[1,2,3],[5,6,7]])\n",
    "print(np.transpose(var))\n",
    "print(np.transpose(var2))"
   ]
  },
  {
   "cell_type": "markdown",
   "metadata": {},
   "source": [
    "        flatten()"
   ]
  },
  {
   "cell_type": "code",
   "execution_count": 87,
   "metadata": {},
   "outputs": [
    {
     "name": "stdout",
     "output_type": "stream",
     "text": [
      "[1 2 3 4]\n",
      "\n",
      "[1 2 3 5 6 7]\n"
     ]
    }
   ],
   "source": [
    "var=np.array([1,2,3,4])\n",
    "var2=np.array([[1,2,3],[5,6,7]]) \n",
    "print(var.flatten())\n",
    "print(var2.flatten())"
   ]
  },
  {
   "cell_type": "markdown",
   "metadata": {},
   "source": [
    "        cumsum()"
   ]
  },
  {
   "cell_type": "code",
   "execution_count": 94,
   "metadata": {},
   "outputs": [
    {
     "name": "stdout",
     "output_type": "stream",
     "text": [
      "[1 3 6]\n",
      "[ 2  4  7 11]\n"
     ]
    }
   ],
   "source": [
    "var=np.array([1,2,3])       \n",
    "var2=np.array([2,2,3,4])    \n",
    "print(np.cumsum(var))   # [ 1 1+2 1+2+3 ]\n",
    "print(np.cumsum(var2))  # [ 2 2+2 2+2+3 2+2+3+4 ] "
   ]
  },
  {
   "cell_type": "markdown",
   "metadata": {},
   "source": [
    "        min(),max()"
   ]
  },
  {
   "cell_type": "code",
   "execution_count": 98,
   "metadata": {},
   "outputs": [
    {
     "name": "stdout",
     "output_type": "stream",
     "text": [
      "min  0\n",
      "max  8\n"
     ]
    }
   ],
   "source": [
    "var=np.array([1,2,3,1,0,6,8,3,4])\n",
    "print( \"min \", np.min(var) )\n",
    "print( \"max \", np.max(var) )"
   ]
  },
  {
   "cell_type": "code",
   "execution_count": 100,
   "metadata": {},
   "outputs": [
    {
     "name": "stdout",
     "output_type": "stream",
     "text": [
      "min  1\n",
      "max  8\n"
     ]
    }
   ],
   "source": [
    "var=np.array([[1,2,3,1],[6,8,3,4]])\n",
    "print( \"min \", np.min(var) )\n",
    "print( \"max \", np.max(var) )"
   ]
  },
  {
   "cell_type": "markdown",
   "metadata": {},
   "source": [
    "    axis = 0\n",
    "        According to Columns\n",
    "    axis = 1 \n",
    "        According to Rows"
   ]
  },
  {
   "cell_type": "code",
   "execution_count": 105,
   "metadata": {},
   "outputs": [
    {
     "name": "stdout",
     "output_type": "stream",
     "text": [
      "min  [5 2 3 3]\n",
      "max  [11 15 10 17]\n"
     ]
    }
   ],
   "source": [
    "var=np.array([[11,2,10,3],[5,8,3,14],[9,15,6,17]])\n",
    "print( \"min \", np.min(var , axis=0) )\n",
    "print( \"max \", np.max(var , axis=0) )"
   ]
  },
  {
   "cell_type": "code",
   "execution_count": 106,
   "metadata": {},
   "outputs": [
    {
     "name": "stdout",
     "output_type": "stream",
     "text": [
      "min  [1 3]\n",
      "max  [12  8]\n"
     ]
    }
   ],
   "source": [
    "var=np.array([[1,2,12,11],[6,8,3,4]])\n",
    "print( \"min \", np.min(var , axis=1) )\n",
    "print( \"max \", np.max(var , axis=1) )"
   ]
  },
  {
   "cell_type": "markdown",
   "metadata": {},
   "source": [
    "        argmin()/argmax() : Give position of min / max terms."
   ]
  },
  {
   "cell_type": "code",
   "execution_count": 108,
   "metadata": {},
   "outputs": [
    {
     "name": "stdout",
     "output_type": "stream",
     "text": [
      "[0 2]\n",
      "[2 3]\n",
      "[0 0 1 0]\n",
      "[1 1 0 1]\n"
     ]
    }
   ],
   "source": [
    "var=np.array([[1,2,3,1],[3,5,1,6]])\n",
    "print(np.argmin(var,axis=1))\n",
    "print(np.argmax(var,axis=1)) \n",
    "print(np.argmin(var,axis=0))\n",
    "print(np.argmax(var,axis=0)) "
   ]
  },
  {
   "cell_type": "markdown",
   "metadata": {},
   "source": [
    "    ndim"
   ]
  },
  {
   "cell_type": "code",
   "execution_count": 54,
   "metadata": {},
   "outputs": [
    {
     "name": "stdout",
     "output_type": "stream",
     "text": [
      "2\n"
     ]
    }
   ],
   "source": [
    "a = np.array([[\"agrawal\",\"ishu\",24]])\n",
    "print(a.ndim)"
   ]
  },
  {
   "cell_type": "markdown",
   "metadata": {},
   "source": [
    "    shape"
   ]
  },
  {
   "cell_type": "code",
   "execution_count": 8,
   "metadata": {},
   "outputs": [
    {
     "name": "stdout",
     "output_type": "stream",
     "text": [
      "[1 2 3 4] (4,)\n",
      "\n",
      "[[1 2 3 4]\n",
      " [1 2 3 4]] (2, 4)\n"
     ]
    }
   ],
   "source": [
    "a=np.array([1,2,3,4])\n",
    "b=np.array([[1,2,3,4],[1,2,3,4]])\n",
    "print(a,a.shape)\n",
    "print(b,b.shape) "
   ]
  },
  {
   "cell_type": "markdown",
   "metadata": {},
   "source": [
    "    ndmin"
   ]
  },
  {
   "cell_type": "code",
   "execution_count": 9,
   "metadata": {},
   "outputs": [
    {
     "name": "stdout",
     "output_type": "stream",
     "text": [
      "[[[1 2 3 4]]]\n",
      "(1, 1, 4)\n",
      "3\n"
     ]
    }
   ],
   "source": [
    "a=np.array([1,2,3,4],ndmin=3)\n",
    "print(a)               # [[[1 2 3 4]]]\n",
    "print(a.shape)         # (1, 1, 4)   #(number of rows in each dimensional array)\n",
    "print(a.ndim)          # 3"
   ]
  },
  {
   "cell_type": "markdown",
   "metadata": {},
   "source": [
    "    reshape"
   ]
  },
  {
   "cell_type": "code",
   "execution_count": 15,
   "metadata": {},
   "outputs": [
    {
     "name": "stdout",
     "output_type": "stream",
     "text": [
      "1 (6,)\n",
      "[[1 2 3]\n",
      " [4 5 6]]\n",
      "2 (2, 3)\n"
     ]
    }
   ],
   "source": [
    "a=np.array([1,2,3,4,5,6])\n",
    "print(a.ndim,a.shape)     #1 (6,)\n",
    "x=a.reshape(2,3)\n",
    "print(x) \n",
    "print(x.ndim,x.shape)"
   ]
  },
  {
   "cell_type": "code",
   "execution_count": 21,
   "metadata": {},
   "outputs": [
    {
     "name": "stdout",
     "output_type": "stream",
     "text": [
      "[[[ 1  2]\n",
      "  [ 3  4]\n",
      "  [ 5  6]]\n",
      "\n",
      " [[ 7  8]\n",
      "  [ 9 10]\n",
      "  [11 12]]]\n",
      "[ 1  2  3  4  5  6  7  8  9 10 11 12] [ 1  2  3  4  5  6  7  8  9 10 11 12]\n"
     ]
    }
   ],
   "source": [
    "b=np.array([1,2,3,4,5,6,7,8,9,10,11,12])  # shape (12,)\n",
    "c=b.reshape(2,3,2)\n",
    "print(c)\n",
    "d=c.reshape(12)\n",
    "h=c.reshape(-1) \n",
    "print(d,h)                # [ 1  2  3  4  5  6  7  8  9 10 11 12]"
   ]
  },
  {
   "cell_type": "markdown",
   "metadata": {},
   "source": [
    "    NumPy Array Indexing"
   ]
  },
  {
   "cell_type": "markdown",
   "metadata": {},
   "source": [
    "        Access 1D,2D,3D Elements"
   ]
  },
  {
   "cell_type": "code",
   "execution_count": 59,
   "metadata": {},
   "outputs": [
    {
     "name": "stdout",
     "output_type": "stream",
     "text": [
      "[1 2 3]\n",
      "\n",
      "2\n",
      "\n",
      "6\n",
      "\n",
      "6\n"
     ]
    }
   ],
   "source": [
    "barr = np.array([[1, 2, 3], [4, 5, 6]])\n",
    "print(barr[0])\n",
    "print(barr[0, 1])\n",
    "print(barr[1, 2])\n",
    "c=np.array([[[1, 2, 3], [4, 5, 6]]])\n",
    "print(c[0, 1, 2])"
   ]
  },
  {
   "cell_type": "markdown",
   "metadata": {},
   "source": [
    "        Negative Indexing"
   ]
  },
  {
   "cell_type": "code",
   "execution_count": 60,
   "metadata": {},
   "outputs": [
    {
     "name": "stdout",
     "output_type": "stream",
     "text": [
      "Last element from 2nd dim:  6\n"
     ]
    }
   ],
   "source": [
    "barr = np.array([[1, 2, 3], [4, 5, 6]])\n",
    "print('Last element from 2nd dim: ', barr[1, -1])"
   ]
  },
  {
   "cell_type": "markdown",
   "metadata": {},
   "source": [
    "        Slicing arrays"
   ]
  },
  {
   "cell_type": "code",
   "execution_count": 62,
   "metadata": {},
   "outputs": [
    {
     "name": "stdout",
     "output_type": "stream",
     "text": [
      "[[1 2 3]\n",
      " [4 5 6]]\n",
      "\n",
      "[2 3]\n"
     ]
    }
   ],
   "source": [
    "barr = np.array([[1, 2, 3], [4, 5, 6]])\n",
    "print(barr)\n",
    "print(barr[0, 1:3])"
   ]
  },
  {
   "cell_type": "code",
   "execution_count": 64,
   "metadata": {},
   "outputs": [
    {
     "name": "stdout",
     "output_type": "stream",
     "text": [
      "6\n",
      "6\n",
      "[[[100   2   3]\n",
      "  [  4   5   6]\n",
      "  [  7   8   9]]\n",
      "\n",
      " [[200 200   3]\n",
      "  [200 200   6]\n",
      "  [  7   8   9]]\n",
      "\n",
      " [[300   2   3]\n",
      "  [  4   5   6]\n",
      "  [  7   8   9]]]\n",
      "Dimension of carr1 =  3\n",
      "(3, 3, 3)\n"
     ]
    }
   ],
   "source": [
    "carr1 = np.array([\n",
    " [ [1,2,3],[4,5,6],[7,8,9] ],\n",
    " [ [1,2,3],[4,5,6],[7,8,9] ],\n",
    " [ [1,2,3],[4,5,6],[7,8,9] ],\n",
    " ])\n",
    "print(carr1[0][1][2]) #1st 2-D, 2nd row, 3rd element\n",
    "print(carr1[0,1,2])\n",
    "carr1[0, 0, 0] = 100\n",
    "carr1[1, 0:2, 0:2] = 200\n",
    "carr1[2, 0, 0] = 300\n",
    "print(carr1)\n",
    "print(\"Dimension of carr1 = \",carr1.ndim)\n",
    "print(carr1.shape)\n"
   ]
  },
  {
   "cell_type": "markdown",
   "metadata": {},
   "source": [
    "    Broadcasting"
   ]
  },
  {
   "cell_type": "code",
   "execution_count": 61,
   "metadata": {},
   "outputs": [
    {
     "ename": "ValueError",
     "evalue": "operands could not be broadcast together with shapes (2,) (2,3) ",
     "output_type": "error",
     "traceback": [
      "\u001b[1;31m---------------------------------------------------------------------------\u001b[0m",
      "\u001b[1;31mValueError\u001b[0m                                Traceback (most recent call last)",
      "Cell \u001b[1;32mIn[61], line 3\u001b[0m\n\u001b[0;32m      1\u001b[0m a\u001b[38;5;241m=\u001b[39mnp\u001b[38;5;241m.\u001b[39marray([\u001b[38;5;241m1\u001b[39m,\u001b[38;5;241m2\u001b[39m,\u001b[38;5;241m3\u001b[39m])\n\u001b[0;32m      2\u001b[0m a\u001b[38;5;241m=\u001b[39mnp\u001b[38;5;241m.\u001b[39marray([\u001b[38;5;241m1\u001b[39m,\u001b[38;5;241m2\u001b[39m])\n\u001b[1;32m----> 3\u001b[0m \u001b[38;5;28mprint\u001b[39m(\u001b[43ma\u001b[49m\u001b[38;5;241;43m+\u001b[39;49m\u001b[43mb\u001b[49m)    \u001b[38;5;66;03m# broadcasting error\u001b[39;00m\n",
      "\u001b[1;31mValueError\u001b[0m: operands could not be broadcast together with shapes (2,) (2,3) "
     ]
    }
   ],
   "source": [
    "a=np.array([1,2,3])\n",
    "a=np.array([1,2])\n",
    "print(a+b)    # broadcasting error"
   ]
  },
  {
   "cell_type": "code",
   "execution_count": null,
   "metadata": {},
   "outputs": [
    {
     "name": "stdout",
     "output_type": "stream",
     "text": [
      "[2 4 6]\n"
     ]
    }
   ],
   "source": [
    "a=np.array([1,2,3])\n",
    "b=np.array([1,2,3])\n",
    "print(a+b)    # [2 4 6]"
   ]
  },
  {
   "cell_type": "markdown",
   "metadata": {},
   "source": [
    " Rules to remember while applying operation :\n",
    "\n",
    "    1. Same Dimension : compare dimension from right side\n",
    "    2. If we have two dimensions (1x3) and (3x1) so both should have \"1\" atleast in the end or both must be same.\n",
    "\n",
    " Note : It will give output as (3x3) which is the maximum dimension from both the dimensions."
   ]
  },
  {
   "cell_type": "code",
   "execution_count": null,
   "metadata": {},
   "outputs": [
    {
     "name": "stdout",
     "output_type": "stream",
     "text": [
      "[1 2 3]\n",
      "[[3]\n",
      " [2]\n",
      " [1]]\n",
      "\n",
      "[[4 5 6]\n",
      " [3 4 5]\n",
      " [2 3 4]]\n"
     ]
    }
   ],
   "source": [
    "a=np.array([1,2,3])\n",
    "b=np.array([[3],[2],[1]])\n",
    "print(a)\n",
    "print(b)         \n",
    "print(a+b)"
   ]
  },
  {
   "cell_type": "markdown",
   "metadata": {},
   "source": [
    "        Note : a has (1x3) and b has (3x1) dimension having 1 on any of two right hand side ,and resul will be maximum dimension from both the dimensions i.e (3x3)\n",
    "        \n",
    "        If a has (1x3) and b has (1x4) then it will through broadcasting error.\n",
    "        If a has (1x3) and b has (3x4) then it will also through broadcasting error."
   ]
  },
  {
   "cell_type": "code",
   "execution_count": null,
   "metadata": {},
   "outputs": [
    {
     "name": "stdout",
     "output_type": "stream",
     "text": [
      "[[1]\n",
      " [2]]\n",
      "[[1 2 3]\n",
      " [1 2 3]]\n",
      "\n",
      "[[2 3 4]\n",
      " [3 4 5]]\n"
     ]
    }
   ],
   "source": [
    "a=np.array([[1],[2]])          \n",
    "b=np.array([[1,2,3],[1,2,3]])\n",
    "print(a)            \n",
    "print(b)\n",
    "print()\n",
    "print(a+b)"
   ]
  },
  {
   "cell_type": "markdown",
   "metadata": {},
   "source": [
    "        Note : a has (2x1) and b has (2x3) dimension having 1 on any of two right hand side ,\n",
    "    and resul will be maximum dimension from both the dimensions i.e (2x3)"
   ]
  },
  {
   "cell_type": "markdown",
   "metadata": {},
   "source": [
    "    nditer()  -  use for fetching all element without using nested for loop"
   ]
  },
  {
   "cell_type": "code",
   "execution_count": null,
   "metadata": {},
   "outputs": [
    {
     "name": "stdout",
     "output_type": "stream",
     "text": [
      "<numpy.nditer object at 0x000001ACFF4F6790>\n",
      "1\n",
      "2\n",
      "5\n",
      "6\n"
     ]
    }
   ],
   "source": [
    "a=np.array([[[1,2],[5,6]]])\n",
    "s=np.nditer(a)\n",
    "print(s)\n",
    "for i in s:\n",
    "    print(i)"
   ]
  },
  {
   "cell_type": "code",
   "execution_count": null,
   "metadata": {},
   "outputs": [
    {
     "name": "stdout",
     "output_type": "stream",
     "text": [
      "b'1'\n",
      "b'2'\n",
      "b'5'\n",
      "b'6'\n"
     ]
    }
   ],
   "source": [
    "a=np.array([[[1,2],[5,6]]],dtype=\"S\")   # here s stands for string\n",
    "for i in np.nditer(a):\n",
    "    print(i)"
   ]
  },
  {
   "cell_type": "markdown",
   "metadata": {},
   "source": [
    "    ndenumerate()  :- use to print index along with iteration"
   ]
  },
  {
   "cell_type": "code",
   "execution_count": null,
   "metadata": {},
   "outputs": [
    {
     "name": "stdout",
     "output_type": "stream",
     "text": [
      "(0, 0, 0) 1\n",
      "(0, 0, 1) 2\n",
      "(0, 1, 0) 5\n",
      "(0, 1, 1) 6\n"
     ]
    }
   ],
   "source": [
    "a=np.array([[[1,2],[5,6]]])\n",
    "for i,d in np.ndenumerate(a):  # Gives index and value\n",
    "    print(i,d)"
   ]
  },
  {
   "cell_type": "markdown",
   "metadata": {},
   "source": [
    "    copy() & view()"
   ]
  },
  {
   "cell_type": "markdown",
   "metadata": {},
   "source": [
    "                           copy                                               view                                      \n",
    "    The copy own the data                                             The view does not own the data                    \n",
    "    The copy of array i a new array                                   A view of original array                          \n",
    "    changes made in a copied array doesnot affect original one        Any changes in viewed or original will affect both   "
   ]
  },
  {
   "cell_type": "code",
   "execution_count": 65,
   "metadata": {},
   "outputs": [
    {
     "name": "stdout",
     "output_type": "stream",
     "text": [
      "var before : [1 2 3]\n",
      "c before : [1 2 3]\n",
      "var after : [1 2 3]\n",
      "c after : [5 2 3]\n",
      "None\n"
     ]
    }
   ],
   "source": [
    "var=np.array([1,2,3])\n",
    "c=var.copy()\n",
    "print(\"var before :\",var)\n",
    "print(\"c before :\",c)\n",
    "c[0]=5\n",
    "print(\"var after :\",var)\n",
    "print(\"c after :\",c)\n",
    "print(c.base)"
   ]
  },
  {
   "cell_type": "code",
   "execution_count": 66,
   "metadata": {},
   "outputs": [
    {
     "name": "stdout",
     "output_type": "stream",
     "text": [
      "var before : [1 2 3]\n",
      "c before : [1 2 3]\n",
      "var after : [5 2 3]\n",
      "c after : [5 2 3]\n",
      "[5 2 3]\n"
     ]
    }
   ],
   "source": [
    "var=np.array([1,2,3])\n",
    "c=var.view()\n",
    "print(\"var before :\",var)\n",
    "print(\"c before :\",c)\n",
    "c[0]=5\n",
    "print(\"var after :\",var)\n",
    "print(\"c after :\",c)\n",
    "print(c.base)"
   ]
  },
  {
   "cell_type": "markdown",
   "metadata": {},
   "source": [
    "    JOIN ARRAY"
   ]
  },
  {
   "cell_type": "markdown",
   "metadata": {},
   "source": [
    "        concatenate()"
   ]
  },
  {
   "cell_type": "code",
   "execution_count": 68,
   "metadata": {},
   "outputs": [
    {
     "name": "stdout",
     "output_type": "stream",
     "text": [
      "[1 2 3 3 4 5]\n"
     ]
    }
   ],
   "source": [
    "v1=np.array([1,2,3])\n",
    "v2=np.array([3,4,5])\n",
    "new=np.concatenate((v1,v2)) # Must be in tuple\n",
    "print(new)"
   ]
  },
  {
   "cell_type": "code",
   "execution_count": 72,
   "metadata": {},
   "outputs": [
    {
     "name": "stdout",
     "output_type": "stream",
     "text": [
      "[[ 1  2]\n",
      " [ 4  5]\n",
      " [ 7  6]\n",
      " [ 9 15]]\n",
      "\n",
      "[[ 1  2  7  6]\n",
      " [ 4  5  9 15]]\n"
     ]
    }
   ],
   "source": [
    "v1=np.array([[1,2],[4,5]])\n",
    "v2=np.array([[7,6],[9,15]])\n",
    "n1=np.concatenate((v1,v2),axis=0)\n",
    "n2=np.concatenate((v1,v2),axis=1)\n",
    "print(n1)\n",
    "print(n2)"
   ]
  },
  {
   "cell_type": "markdown",
   "metadata": {},
   "source": [
    "        stack()"
   ]
  },
  {
   "cell_type": "code",
   "execution_count": 74,
   "metadata": {},
   "outputs": [
    {
     "name": "stdout",
     "output_type": "stream",
     "text": [
      "[[1 2 3]\n",
      " [3 4 5]]\n",
      "\n",
      "[[1 3]\n",
      " [2 4]\n",
      " [3 5]]\n"
     ]
    }
   ],
   "source": [
    "v1=np.array([1,2,3])\n",
    "v2=np.array([3,4,5])\n",
    "n1=np.stack((v1,v2),axis=0)\n",
    "n2=np.stack((v1,v2),axis=1)\n",
    "print(n1)\n",
    "print(n2)"
   ]
  },
  {
   "cell_type": "markdown",
   "metadata": {},
   "source": [
    "            hstack() : along row\n",
    "            vstack() : along column\n",
    "            dtack() : along height"
   ]
  },
  {
   "cell_type": "code",
   "execution_count": 80,
   "metadata": {},
   "outputs": [
    {
     "name": "stdout",
     "output_type": "stream",
     "text": [
      "[[ 1  2  7  6]\n",
      " [ 4  5  9 15]]\n",
      "\n",
      "[[ 1  2]\n",
      " [ 4  5]\n",
      " [ 7  6]\n",
      " [ 9 15]]\n",
      "\n",
      "[[[ 1  7]\n",
      "  [ 2  6]]\n",
      "\n",
      " [[ 4  9]\n",
      "  [ 5 15]]]\n"
     ]
    }
   ],
   "source": [
    "v1=np.array([[1,2],[4,5]])\n",
    "v2=np.array([[7,6],[9,15]])\n",
    "n1=np.hstack((v1,v2))\n",
    "n2=np.vstack((v1,v2))\n",
    "n3=np.dstack((v1,v2))\n",
    "print(n1)\n",
    "print(n2)\n",
    "print(n3)"
   ]
  },
  {
   "cell_type": "markdown",
   "metadata": {},
   "source": [
    "    SPLIT ARRAY"
   ]
  },
  {
   "cell_type": "code",
   "execution_count": 89,
   "metadata": {},
   "outputs": [
    {
     "name": "stdout",
     "output_type": "stream",
     "text": [
      "[array([1, 2, 4, 5])]\n",
      "[array([1, 2]), array([4, 5])]\n",
      "[array([1, 2]), array([4]), array([5])]\n",
      "[array([1]), array([2]), array([4]), array([5])]\n"
     ]
    }
   ],
   "source": [
    "v1=np.array([1,2,4,5])\n",
    "n1=np.array_split(v1,1)\n",
    "n2=np.array_split(v1,2)\n",
    "n3=np.array_split(v1,3)\n",
    "n4=np.array_split(v1,4)\n",
    "print(n1)\n",
    "print(n2)\n",
    "print(n3)\n",
    "print(n4)\n",
    "# Here it will give data as list"
   ]
  },
  {
   "cell_type": "code",
   "execution_count": 96,
   "metadata": {},
   "outputs": [
    {
     "name": "stdout",
     "output_type": "stream",
     "text": [
      "[array([[1, 2, 3, 4]]), array([[5, 6, 7, 8]]), array([], shape=(0, 4), dtype=int32), array([], shape=(0, 4), dtype=int32)]\n",
      "[array([[1],\n",
      "       [5]]), array([[2],\n",
      "       [6]]), array([[3],\n",
      "       [7]]), array([[4],\n",
      "       [8]])]\n"
     ]
    }
   ],
   "source": [
    "v2=np.array([[1,2,3,4],[5,6,7,8]])\n",
    "n5=np.array_split(v2,4,axis=0)\n",
    "n6=np.array_split(v2,4,axis=1)\n",
    "print(n5)\n",
    "print(n6)"
   ]
  },
  {
   "cell_type": "markdown",
   "metadata": {},
   "source": [
    "    SEARCH ARRAY"
   ]
  },
  {
   "cell_type": "code",
   "execution_count": 100,
   "metadata": {},
   "outputs": [
    {
     "name": "stdout",
     "output_type": "stream",
     "text": [
      "(array([1, 2], dtype=int64),)\n",
      "(array([2], dtype=int64),)\n"
     ]
    }
   ],
   "source": [
    "v1=np.array([1,2,4,5])\n",
    "x=np.where(v1%2==0)\n",
    "y=np.where(v1==4)\n",
    "print(x)\n",
    "print(y)"
   ]
  },
  {
   "cell_type": "markdown",
   "metadata": {},
   "source": [
    "    SEARCH SORTED ARRAY : \n",
    "        Performs a binary search in the array and return indexes where the specified value would be inserted to maintain the search."
   ]
  },
  {
   "cell_type": "code",
   "execution_count": 106,
   "metadata": {},
   "outputs": [
    {
     "name": "stdout",
     "output_type": "stream",
     "text": [
      "2\n",
      "5\n"
     ]
    }
   ],
   "source": [
    "var=np.array([1,2,4,5,8,9])\n",
    "x=np.searchsorted(var,3)\n",
    "print(x)\n",
    "y=np.searchsorted(var,9)\n",
    "print(y)"
   ]
  },
  {
   "cell_type": "code",
   "execution_count": 108,
   "metadata": {},
   "outputs": [
    {
     "name": "stdout",
     "output_type": "stream",
     "text": [
      "[2 3 1]\n"
     ]
    }
   ],
   "source": [
    "var=np.array([1,2,4,5,8,9])\n",
    "x=np.searchsorted(var,[3,5,2])\n",
    "print(x)"
   ]
  },
  {
   "cell_type": "markdown",
   "metadata": {},
   "source": [
    "        side (parameter)"
   ]
  },
  {
   "cell_type": "code",
   "execution_count": 107,
   "metadata": {},
   "outputs": [
    {
     "name": "stdout",
     "output_type": "stream",
     "text": [
      "2\n",
      "6\n"
     ]
    }
   ],
   "source": [
    "var=np.array([1,2,4,5,8,9])\n",
    "x=np.searchsorted(var,3,side=\"right\")\n",
    "print(x)\n",
    "y=np.searchsorted(var,9,side=\"right\")\n",
    "print(y)"
   ]
  },
  {
   "cell_type": "markdown",
   "metadata": {},
   "source": [
    "    SORT ARRAY"
   ]
  },
  {
   "cell_type": "code",
   "execution_count": 111,
   "metadata": {},
   "outputs": [
    {
     "name": "stdout",
     "output_type": "stream",
     "text": [
      "[[ 4 32 56]\n",
      " [ 1  3  5]]\n"
     ]
    }
   ],
   "source": [
    "var=np.array([[32,4,56],[3,5,1]])\n",
    "print(np.sort(var))"
   ]
  },
  {
   "cell_type": "markdown",
   "metadata": {},
   "source": [
    "    FILTER ARRAY"
   ]
  },
  {
   "cell_type": "code",
   "execution_count": 114,
   "metadata": {},
   "outputs": [
    {
     "name": "stdout",
     "output_type": "stream",
     "text": [
      "[1 3] [2 1 2]\n"
     ]
    }
   ],
   "source": [
    "var=np.array([1,2,3])\n",
    "f=[True,False,True]\n",
    "p=[1,0,1]\n",
    "n1=var[f]\n",
    "n2=var[p]\n",
    "print(n1,n2)"
   ]
  },
  {
   "cell_type": "code",
   "execution_count": 115,
   "metadata": {},
   "outputs": [
    {
     "name": "stdout",
     "output_type": "stream",
     "text": [
      "[2 4 6]\n"
     ]
    }
   ],
   "source": [
    "var=np.array([1,2,3,4,5,6,7,9])\n",
    "print(var[var%2==0])"
   ]
  },
  {
   "cell_type": "markdown",
   "metadata": {},
   "source": [
    "    INSERT"
   ]
  },
  {
   "cell_type": "code",
   "execution_count": 133,
   "metadata": {},
   "outputs": [
    {
     "name": "stdout",
     "output_type": "stream",
     "text": [
      "[ 1 24  2  3  4]\n",
      "[ 1  2  3 24  4 24]\n"
     ]
    }
   ],
   "source": [
    "var=np.array([1,2,3,4])\n",
    "n1=np.insert(var,1,24)\n",
    "print(n1)\n",
    "n2=np.insert(var,[3,4],24.5)\n",
    "print(n2) # it will not accept floating value so it convert it into integer"
   ]
  },
  {
   "cell_type": "code",
   "execution_count": 132,
   "metadata": {},
   "outputs": [
    {
     "name": "stdout",
     "output_type": "stream",
     "text": [
      "[[ 1  2]\n",
      " [ 3  4]\n",
      " [24 24]]\n",
      "\n",
      "[[ 1  2 24]\n",
      " [ 3  4 24]]\n",
      "\n",
      "[[ 1  2 24]\n",
      " [ 3  4 22]]\n",
      "\n",
      "[[ 1  2 24]\n",
      " [ 3  4 22]]\n"
     ]
    }
   ],
   "source": [
    "var=np.array([[1,2],[3,4]])\n",
    "n1=np.insert(var,2,24,axis=0)\n",
    "n2=np.insert(var,2,24,axis=1)\n",
    "n3=np.insert(var,2,[24,22],axis=1)\n",
    "n4=np.insert(var,2,[24,22],axis=1)\n",
    "print(n1)\n",
    "print(n2)\n",
    "print(n3)\n",
    "print(n4)"
   ]
  },
  {
   "cell_type": "markdown",
   "metadata": {},
   "source": [
    "    APPEND"
   ]
  },
  {
   "cell_type": "code",
   "execution_count": 138,
   "metadata": {},
   "outputs": [
    {
     "name": "stdout",
     "output_type": "stream",
     "text": [
      "[ 1  2  3  4 24]\n",
      "[ 1.   2.   3.   4.  24.5]\n"
     ]
    }
   ],
   "source": [
    "var=np.array([1,2,3,4])\n",
    "n1=np.append(var,24)\n",
    "print(n1)\n",
    "n2=np.append(var,24.5)\n",
    "print(n2)"
   ]
  },
  {
   "cell_type": "markdown",
   "metadata": {},
   "source": [
    "    DELETE"
   ]
  },
  {
   "cell_type": "code",
   "execution_count": 141,
   "metadata": {},
   "outputs": [
    {
     "name": "stdout",
     "output_type": "stream",
     "text": [
      "[1 2 4]\n",
      "[2 4]\n"
     ]
    }
   ],
   "source": [
    "var=np.array([1,2,3,4])\n",
    "d1=np.delete(var,2)\n",
    "print(d1)\n",
    "d2=np.delete(var,[2,0])\n",
    "print(d2)"
   ]
  },
  {
   "cell_type": "markdown",
   "metadata": {},
   "source": [
    "    MATRIX"
   ]
  },
  {
   "cell_type": "code",
   "execution_count": 142,
   "metadata": {},
   "outputs": [
    {
     "name": "stdout",
     "output_type": "stream",
     "text": [
      "[[1 2 3]\n",
      " [3 4 5]]\n",
      "\n",
      "[[ 2  4  6]\n",
      " [ 6  8 10]]\n"
     ]
    }
   ],
   "source": [
    "var1=np.matrix([[1,2,3],[3,4,5]])\n",
    "print(var1)\n",
    "print(var1+var1)"
   ]
  },
  {
   "cell_type": "code",
   "execution_count": 165,
   "metadata": {},
   "outputs": [
    {
     "name": "stdout",
     "output_type": "stream",
     "text": [
      "[[ 7 10]\n",
      " [15 22]]\n"
     ]
    }
   ],
   "source": [
    "var1=np.matrix([[1,2],[3,4]])\n",
    "var2=np.matrix([[1,2],[3,4]])\n",
    "print(var1.dot(var2)) # we can use \" * \" instead of dot\n",
    "# Must follow broadcast rule"
   ]
  },
  {
   "cell_type": "markdown",
   "metadata": {},
   "source": [
    "        transpose()"
   ]
  },
  {
   "cell_type": "code",
   "execution_count": 164,
   "metadata": {},
   "outputs": [
    {
     "name": "stdout",
     "output_type": "stream",
     "text": [
      "[[1 3]\n",
      " [2 4]]\n"
     ]
    }
   ],
   "source": [
    "var=np.matrix([[1,2],[3,4]])\n",
    "print(np.transpose(var))"
   ]
  },
  {
   "cell_type": "markdown",
   "metadata": {},
   "source": [
    "            Another way of finding transpose"
   ]
  },
  {
   "cell_type": "code",
   "execution_count": 166,
   "metadata": {},
   "outputs": [
    {
     "name": "stdout",
     "output_type": "stream",
     "text": [
      "[[1 3]\n",
      " [2 4]]\n"
     ]
    }
   ],
   "source": [
    "var=np.matrix([[1,2],[3,4]])\n",
    "print(var.T)"
   ]
  },
  {
   "cell_type": "markdown",
   "metadata": {},
   "source": [
    "        swapaxes()"
   ]
  },
  {
   "cell_type": "code",
   "execution_count": 167,
   "metadata": {},
   "outputs": [
    {
     "name": "stdout",
     "output_type": "stream",
     "text": [
      "[[1 3]\n",
      " [2 4]]\n"
     ]
    }
   ],
   "source": [
    "var=np.matrix([[1,2],[3,4]])\n",
    "print(np.swapaxes(var,1,0))"
   ]
  },
  {
   "cell_type": "markdown",
   "metadata": {},
   "source": [
    "        Inverse of Matrix"
   ]
  },
  {
   "cell_type": "code",
   "execution_count": 161,
   "metadata": {},
   "outputs": [
    {
     "name": "stdout",
     "output_type": "stream",
     "text": [
      "[[-2.   1. ]\n",
      " [ 1.5 -0.5]]\n"
     ]
    }
   ],
   "source": [
    "var=np.matrix([[1,2],[3,4]])\n",
    "print(np.linalg.inv(var))"
   ]
  },
  {
   "cell_type": "markdown",
   "metadata": {},
   "source": [
    "        power"
   ]
  },
  {
   "cell_type": "code",
   "execution_count": 173,
   "metadata": {},
   "outputs": [
    {
     "name": "stdout",
     "output_type": "stream",
     "text": [
      "[[ 7 10]\n",
      " [15 22]]\n"
     ]
    }
   ],
   "source": [
    "var=np.matrix([[1,2],[3,4]])\n",
    "print(np.linalg.matrix_power(var,2)) # if we put 0 then we get identity matrix"
   ]
  },
  {
   "cell_type": "markdown",
   "metadata": {},
   "source": [
    "        Determinant"
   ]
  },
  {
   "cell_type": "code",
   "execution_count": 179,
   "metadata": {},
   "outputs": [
    {
     "name": "stdout",
     "output_type": "stream",
     "text": [
      "1.9999999999999998\n"
     ]
    }
   ],
   "source": [
    "var=np.matrix([[1,2],[3,8]])\n",
    "print(np.linalg.det(var))"
   ]
  },
  {
   "cell_type": "code",
   "execution_count": null,
   "metadata": {},
   "outputs": [],
   "source": []
  },
  {
   "cell_type": "code",
   "execution_count": null,
   "metadata": {},
   "outputs": [],
   "source": []
  }
 ],
 "metadata": {
  "kernelspec": {
   "display_name": "Python 3",
   "language": "python",
   "name": "python3"
  },
  "language_info": {
   "codemirror_mode": {
    "name": "ipython",
    "version": 3
   },
   "file_extension": ".py",
   "mimetype": "text/x-python",
   "name": "python",
   "nbconvert_exporter": "python",
   "pygments_lexer": "ipython3",
   "version": "3.12.3"
  }
 },
 "nbformat": 4,
 "nbformat_minor": 2
}
